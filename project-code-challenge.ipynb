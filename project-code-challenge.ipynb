{
 "cells": [
  {
   "cell_type": "markdown",
   "metadata": {},
   "source": [
    "<img src=\"http://imgur.com/1ZcRyrc.png\" style=\"float: left; margin: 20px; height: 55px\">\n",
    "\n",
    "# Project 1: Python Coding Exercises\n",
    "\n",
    "_Authors: Joseph Nelson (DC) _\n",
    "\n",
    "---"
   ]
  },
  {
   "cell_type": "markdown",
   "metadata": {},
   "source": [
    "The following code challenges are drawn from common exercises used in technical interviews.\n",
    "\n",
    "Please note that there may be several ways to approach each challenge. If you get stuck, try mapping out your approach in pseudocode first. Finally, while solutions to problems like these may be found online, remember that if you copy/paste code that you can't explain, you'll be missing out on the point of the project. The only way to truly learn a new skill is through practice, trial, and error - we can only help you improve by understanding where you are having trouble."
   ]
  },
  {
   "cell_type": "markdown",
   "metadata": {},
   "source": [
    "### Challenge 1: Largest Palindrome\n",
    "A palindromic number reads the same both ways. For example, 1234321 is a palindrome. The largest palindrome made from the product of two two-digit numbers is 9009 = 91 × 99. Find the largest palindrome made from the product of two three-digit numbers. Afterward, write a brief explanation walking through your code's logic in markdown."
   ]
  },
  {
   "cell_type": "code",
   "execution_count": 10,
   "metadata": {},
   "outputs": [
    {
     "data": {
      "text/plain": [
       "906609"
      ]
     },
     "execution_count": 10,
     "metadata": {},
     "output_type": "execute_result"
    }
   ],
   "source": [
    "list1 = []\n",
    "\n",
    "for i in range(100, 1000):\n",
    "    for j in range(100, 1000):\n",
    "        number = i*j\n",
    "        if str(number) == (str(number)[::-1]):\n",
    "            list1.append(number)\n",
    "\n",
    "list1.sort(reverse = True)\n",
    "\n",
    "list1[0]"
   ]
  },
  {
   "cell_type": "markdown",
   "metadata": {},
   "source": [
    "Explanation:\n",
    "\n",
    "Use a forloop to find the product of two three-digit numbers by running through all the three-digit numbers in the range of 100 - 999. Only select all products which are palindromes and add them to an empty list, i.e. list1. Sort list1 by descending order and get the first element of list1 to get the largest palindrome."
   ]
  },
  {
   "cell_type": "markdown",
   "metadata": {},
   "source": [
    "\n",
    "### Challenge 2: Summation of Primes\n",
    "The sum of the primes below 10 is 2 + 3 + 5 + 7 = 17. Find the sum of all the primes below 2,000. Afterward, write a brief explanation walking through your code's logic in markdown."
   ]
  },
  {
   "cell_type": "code",
   "execution_count": 69,
   "metadata": {},
   "outputs": [
    {
     "data": {
      "text/plain": [
       "277050"
      ]
     },
     "execution_count": 69,
     "metadata": {},
     "output_type": "execute_result"
    }
   ],
   "source": [
    "list2 = []\n",
    "\n",
    "for i in range(0, 2000):\n",
    "    for j in range(2, i):\n",
    "        if (i%j) == 0:\n",
    "            list2.append(i)\n",
    "            \n",
    "set2 = set(list2)\n",
    "\n",
    "list_2000 = list(range(2,2000))\n",
    "\n",
    "list_prime = [x for x in list_2000 if x not in set2]\n",
    "\n",
    "sum_prime_2000 = sum(list_prime)\n",
    "\n",
    "sum_prime_2000"
   ]
  },
  {
   "cell_type": "markdown",
   "metadata": {},
   "source": [
    "Explanation:\n",
    "\n",
    "Prime numbers are not divisible by any other number except for itself. If any number below 2000 is able to be divided by any number between 2 to (itself - 1), they are added into list2. Set2 takes the unique values in list2.\n",
    "\n",
    "List_prime uses list comprehension to get all numbers below 2000 excluding the numbers in set2, as the remainder would then be the prime numbers below 2000.\n",
    "\n",
    "Sum_prime_2000 contains the result of the sum of all primes below 2000."
   ]
  },
  {
   "cell_type": "markdown",
   "metadata": {},
   "source": [
    "### Challenge 3: Multiples of 3 and 5\n",
    "If we list all of the natural numbers below 10 that are multiples of 3 or 5, we get 3, 5, 6, and 9. The sum of these multiples is 23. Find the sum of all the multiples of 3 and 5 below 1,000. Afterward, write a brief explanation walking through your code's logic in markdown."
   ]
  },
  {
   "cell_type": "code",
   "execution_count": 49,
   "metadata": {},
   "outputs": [
    {
     "name": "stdout",
     "output_type": "stream",
     "text": [
      "233168\n"
     ]
    }
   ],
   "source": [
    "multiples_3 = []\n",
    "\n",
    "for num in range(1, 1000):\n",
    "    if num % 3 == 0:\n",
    "        multiples_3.append(num)\n",
    "        \n",
    "multiples_5 = []\n",
    "\n",
    "for num in range(1, 1000):\n",
    "    if num % 5 == 0:\n",
    "        multiples_5.append(num)\n",
    "        \n",
    "multiples = set(multiples_3 + multiples_5)\n",
    "\n",
    "sum_multiples = sum(multiples)\n",
    "\n",
    "print(sum_multiples)"
   ]
  },
  {
   "cell_type": "markdown",
   "metadata": {},
   "source": [
    "Explanation:\n",
    "\n",
    "Create two empty lists, one for multiples of 3 and the other for multiples of 5. Using the modulo operator, add the corresponding multiples into the respective lists. Join the two lists together into a set called 'multiples' to keep only unique values. The result of the sum of multiples of 3 and 5 below 1000 is in the sum_multiples variable."
   ]
  },
  {
   "cell_type": "markdown",
   "metadata": {},
   "source": [
    "### Challenge 4: String Compressor\n",
    "Implement a method to perform basic string compression using the counts of repeated characters. (This is called run-length encoding.) For example, the string \"aabcccccaaa\" would become a2b1c5a3. If the “compressed” string would not become smaller than the original string, your method should return the original string. You can assume the string has only uppercase and lowercase letters (a–z). Specify whether your solution is case sensitive or case insensitive and what you would need to change to make it the other. Afterward, write a brief explanation walking through your code's logic in markdown."
   ]
  },
  {
   "cell_type": "code",
   "execution_count": 74,
   "metadata": {},
   "outputs": [
    {
     "name": "stdout",
     "output_type": "stream",
     "text": [
      "a1b5c1d3e3f22\n"
     ]
    }
   ],
   "source": [
    "counter = 1\n",
    "\n",
    "original_string = \"abbbbbcdddeeeffffffffffffffffffffff\"\n",
    "\n",
    "new_string = \"\"\n",
    "\n",
    "function_string = original_string + \"_\"\n",
    "\n",
    "for i in range(0, len(function_string)-1):\n",
    "    if function_string[i] == function_string[i+1]:\n",
    "        counter += 1\n",
    "    else:\n",
    "        new_string = new_string + function_string[i] + str(counter)\n",
    "        counter = 1\n",
    "\n",
    "def compare_string(original_string, new_string):\n",
    "    if len(original_string)>len(new_string):\n",
    "        return(new_string)\n",
    "    else:\n",
    "        return(original_string)\n",
    "    \n",
    "x = compare_string(original_string, new_string)\n",
    "\n",
    "print(x)"
   ]
  },
  {
   "cell_type": "markdown",
   "metadata": {},
   "source": [
    "Explanation:\n",
    "\n",
    "First set counter = 1 as the minimum count of each character in the string is 1. Define original_string to be the string that we want to perform string compressor on. Define new_string to be an empty string which we will use to return the compressed string, and function_string to be the original string plus a filler \"_\" at the end.\n",
    "\n",
    "In the forloop, for each character in the string from the first element to the last element, increment the counter by 1 if the ith element in the string is the same as the i+1 element in the string. If there is no more continuation, the counter stops incrementing and the character with the counter value is appended to new_string.\n",
    "\n",
    "The function after the forloop compares the original string with the new string to return whichever is shorter."
   ]
  },
  {
   "cell_type": "markdown",
   "metadata": {},
   "source": [
    "### *BONUS* Challenge: FizzBuzz\n",
    "Write a program that prints all of the numbers from 1 to 100. For multiples of 3, instead of the number, print \"Fizz;\" for multiples of 5, print \"Buzz.\" For numbers that are multiples of both 3 and 5, print \"FizzBuzz.\" Afterward, write a brief explanation walking through your code's logic in markdown."
   ]
  },
  {
   "cell_type": "code",
   "execution_count": 36,
   "metadata": {},
   "outputs": [
    {
     "name": "stdout",
     "output_type": "stream",
     "text": [
      "1\n",
      "2\n",
      "Fizz\n",
      "4\n",
      "Buzz\n",
      "Fizz\n",
      "7\n",
      "8\n",
      "Fizz\n",
      "Buzz\n",
      "11\n",
      "Fizz\n",
      "13\n",
      "14\n",
      "FizzBuzz\n",
      "16\n",
      "17\n",
      "Fizz\n",
      "19\n",
      "Buzz\n",
      "Fizz\n",
      "22\n",
      "23\n",
      "Fizz\n",
      "Buzz\n",
      "26\n",
      "Fizz\n",
      "28\n",
      "29\n",
      "FizzBuzz\n"
     ]
    }
   ],
   "source": [
    "for num in range(1,31):\n",
    "    if (num % 3 == 0) & (num % 5 != 0):\n",
    "        print(\"Fizz\")\n",
    "    elif (num % 5 == 0) & (num % 3 != 0):\n",
    "        print(\"Buzz\")\n",
    "    elif (num % 3 == 0 ) & (num % 5 == 0):\n",
    "        print(\"FizzBuzz\")\n",
    "    else:\n",
    "        print(num)"
   ]
  },
  {
   "cell_type": "markdown",
   "metadata": {},
   "source": [
    "Explanation:\n",
    "\n",
    "Use elif conditions and the modulo operator to print Fizz, Buzz or FizzBuzz for the corresponding multiples of 3 or 5."
   ]
  },
  {
   "cell_type": "code",
   "execution_count": null,
   "metadata": {},
   "outputs": [],
   "source": []
  }
 ],
 "metadata": {
  "anaconda-cloud": {},
  "kernelspec": {
   "display_name": "Python 3 (ipykernel)",
   "language": "python",
   "name": "python3"
  },
  "language_info": {
   "codemirror_mode": {
    "name": "ipython",
    "version": 3
   },
   "file_extension": ".py",
   "mimetype": "text/x-python",
   "name": "python",
   "nbconvert_exporter": "python",
   "pygments_lexer": "ipython3",
   "version": "3.9.12"
  }
 },
 "nbformat": 4,
 "nbformat_minor": 2
}
